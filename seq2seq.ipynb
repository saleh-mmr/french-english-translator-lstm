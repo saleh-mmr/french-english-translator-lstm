{
 "cells": [
  {
   "cell_type": "code",
   "execution_count": 100,
   "id": "fae62575",
   "metadata": {},
   "outputs": [],
   "source": [
    "import numpy as np\n",
    "import tensorflow as tf\n",
    "from tensorflow.keras import Sequential\n",
    "from tensorflow.keras.layers import Input, LSTM, Embedding, Dense, RepeatVector\n",
    "from tensorflow.keras.utils import to_categorical\n",
    "import string\n",
    "from tensorflow.keras.preprocessing.text import Tokenizer\n",
    "from tensorflow.keras.preprocessing.sequence import pad_sequences\n",
    "from sklearn.model_selection import train_test_split\n"
   ]
  },
  {
   "cell_type": "code",
   "execution_count": 101,
   "id": "7b08ce41",
   "metadata": {},
   "outputs": [],
   "source": [
    "data_path = 'fra.txt'\n",
    "with open(data_path, 'r', encoding='utf-8') as f:\n",
    "    lines = f.read()\n",
    "\n",
    "sents = lines.strip().split('\\n')\n",
    "fra_eng = np.array([i.split('\\t') for i in sents])"
   ]
  },
  {
   "cell_type": "code",
   "execution_count": 102,
   "id": "31def1a1",
   "metadata": {},
   "outputs": [],
   "source": [
    "# before: fra_eng[0] = ['Go!' , 'Vamos.' , 'usrt-3 $asd 0345 dfs gtg (useless column)']\n",
    "fra_eng = fra_eng[:100000]\n",
    "fra_eng = fra_eng[:,0:2]\n",
    "# before: fra_eng[0] = ['Go!' , 'Vamos.' ]\n"
   ]
  },
  {
   "cell_type": "code",
   "execution_count": 103,
   "id": "8a4d23d2",
   "metadata": {},
   "outputs": [],
   "source": [
    "fra_eng[:,0] = [s.translate(str.maketrans('', '', string.punctuation)) for s in fra_eng[:,0]]\n",
    "fra_eng[:,1] = [s.translate(str.maketrans('', '', string.punctuation)) for s in fra_eng[:,1]]\n",
    "fra_eng[:,0] = [s.lower() for s in fra_eng[:,0]]\n",
    "fra_eng[:,1] = [s.lower() for s in fra_eng[:,1]]"
   ]
  },
  {
   "cell_type": "code",
   "execution_count": 104,
   "id": "61755dc6",
   "metadata": {},
   "outputs": [],
   "source": [
    "def create_tokenizer(lines):\n",
    "    tokenizer = Tokenizer()\n",
    "    tokenizer.fit_on_texts(lines)\n",
    "    return tokenizer"
   ]
  },
  {
   "cell_type": "code",
   "execution_count": 105,
   "id": "f08873f5",
   "metadata": {},
   "outputs": [],
   "source": [
    "en_tokenizer = create_tokenizer(fra_eng[:, 0])\n",
    "# number of english vocabs\n",
    "eng_vocab_size = len(en_tokenizer.word_index)+1\n",
    "# each sentence contains 20 words\n",
    "eng_sents_length = 20\n",
    "\n",
    "fr_tokenizer = create_tokenizer(fra_eng[:, 1])\n",
    "# number of french vocabs\n",
    "fr_vocab_size = len(fr_tokenizer.word_index)+1\n",
    "# each sentence contains 20 words\n",
    "fr_sents_length = 20\n"
   ]
  },
  {
   "cell_type": "code",
   "execution_count": 106,
   "id": "a78e2856",
   "metadata": {},
   "outputs": [],
   "source": [
    "# Converts a list of text lines into padded sequences of integers using a fitted tokenizer.\n",
    "# e.g: \"I love deep learning\" -> [2,54,32,97,0,0,0,0]\n",
    "def encode_seq(tokenizer, length, lines):\n",
    "    seq = tokenizer.texts_to_sequences(lines)\n",
    "    seq = pad_sequences(seq, maxlen=length, padding='post')\n",
    "    return seq"
   ]
  },
  {
   "cell_type": "code",
   "execution_count": 107,
   "id": "d6d029c2",
   "metadata": {},
   "outputs": [],
   "source": [
    "train, test = train_test_split(fra_eng, test_size=0.2, random_state=12)\n",
    "trainX = encode_seq(fr_tokenizer, fr_sents_length, train[:,1])\n",
    "trainY = encode_seq(en_tokenizer, eng_sents_length, train[:,0])\n",
    "testX = encode_seq(fr_tokenizer, fr_sents_length, test[:,1])\n",
    "testY = encode_seq(en_tokenizer, eng_sents_length, test[:,0])"
   ]
  },
  {
   "cell_type": "code",
   "execution_count": 108,
   "id": "5ac4be44",
   "metadata": {},
   "outputs": [],
   "source": [
    "def define_model(in_vocab, out_vocab, in_timesteps, out_timesteps, units):\n",
    "    model = Sequential()\n",
    "    model.add(Embedding(in_vocab, units, input_length=in_timesteps, mask_zero = True))\n",
    "    model.add(LSTM(units))\n",
    "    model.add(RepeatVector(out_timesteps))\n",
    "    model.add(LSTM(units, return_sequences=True))\n",
    "    model.add(Dense(out_vocab, activation='softmax'))\n",
    "    return model\n",
    "    \n"
   ]
  },
  {
   "cell_type": "code",
   "execution_count": 109,
   "id": "0f2dfa9d",
   "metadata": {},
   "outputs": [
    {
     "name": "stderr",
     "output_type": "stream",
     "text": [
      "/Users/salehmmrezaei/Downloads/fra-eng/.venv/lib/python3.9/site-packages/keras/src/layers/core/embedding.py:90: UserWarning: Argument `input_length` is deprecated. Just remove it.\n",
      "  warnings.warn(\n"
     ]
    }
   ],
   "source": [
    "model = define_model(fr_vocab_size, eng_vocab_size, fr_sents_length, eng_sents_length, 512)\n",
    "loss = tf.keras.losses.SparseCategoricalCrossentropy()\n",
    "model.compile(optimizer='adam', loss=loss)"
   ]
  },
  {
   "cell_type": "code",
   "execution_count": null,
   "id": "b9537dd0",
   "metadata": {},
   "outputs": [
    {
     "name": "stdout",
     "output_type": "stream",
     "text": [
      "Epoch 1/10\n",
      "\u001b[1m  5/157\u001b[0m \u001b[37m━━━━━━━━━━━━━━━━━━━━\u001b[0m \u001b[1m2:03:19\u001b[0m 49s/step - loss: 9.0317"
     ]
    }
   ],
   "source": [
    "history = model.fit(trainX, trainY, epochs=10, batch_size=512, validation_data=(testX, testY))"
   ]
  },
  {
   "cell_type": "code",
   "execution_count": null,
   "id": "55d74b8a",
   "metadata": {},
   "outputs": [],
   "source": []
  }
 ],
 "metadata": {
  "kernelspec": {
   "display_name": ".venv",
   "language": "python",
   "name": "python3"
  },
  "language_info": {
   "codemirror_mode": {
    "name": "ipython",
    "version": 3
   },
   "file_extension": ".py",
   "mimetype": "text/x-python",
   "name": "python",
   "nbconvert_exporter": "python",
   "pygments_lexer": "ipython3",
   "version": "3.9.6"
  }
 },
 "nbformat": 4,
 "nbformat_minor": 5
}
